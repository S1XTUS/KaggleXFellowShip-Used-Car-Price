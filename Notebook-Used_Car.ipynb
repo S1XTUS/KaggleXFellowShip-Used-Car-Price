{
 "cells": [
  {
   "cell_type": "code",
   "execution_count": 2,
   "metadata": {},
   "outputs": [
    {
     "name": "stdout",
     "output_type": "stream",
     "text": [
      "Dataset URL: https://www.kaggle.com/datasets/taeefnajib/used-car-price-prediction-dataset\n",
      "License(s): Attribution 4.0 International (CC BY 4.0)\n",
      "Downloading used-car-price-prediction-dataset.zip to d:\\Data Science\\KaggleXFellowShip-Used Car Price\n",
      "\n"
     ]
    },
    {
     "name": "stderr",
     "output_type": "stream",
     "text": [
      "\n",
      "  0%|          | 0.00/109k [00:00<?, ?B/s]\n",
      "100%|██████████| 109k/109k [00:00<00:00, 160kB/s]\n",
      "100%|██████████| 109k/109k [00:00<00:00, 160kB/s]\n"
     ]
    }
   ],
   "source": [
    "import kaggle \n",
    "!kaggle datasets download -d taeefnajib/used-car-price-prediction-dataset"
   ]
  },
  {
   "cell_type": "code",
   "execution_count": 3,
   "metadata": {},
   "outputs": [],
   "source": [
    "import zipfile\n",
    "zip = zipfile.ZipFile('used-car-price-prediction-dataset.zip')\n",
    "zip.extractall()\n",
    "zip.close()"
   ]
  },
  {
   "cell_type": "markdown",
   "metadata": {},
   "source": [
    "# Import Lib"
   ]
  },
  {
   "cell_type": "code",
   "execution_count": 2,
   "metadata": {},
   "outputs": [],
   "source": [
    "import pandas as pd\n",
    "import numpy as np\n",
    "import matplotlib.pyplot as plt\n",
    "import seaborn as sns\n",
    "import re"
   ]
  },
  {
   "cell_type": "code",
   "execution_count": 3,
   "metadata": {},
   "outputs": [],
   "source": [
    "df = pd.read_csv('used_cars.csv')"
   ]
  },
  {
   "cell_type": "markdown",
   "metadata": {},
   "source": [
    "**Brand & Model:** Identify the brand or company name along with the specific model of each vehicle.  \n",
    "\n",
    "**Model Year:** Discover the manufacturing year of the vehicles, crucial for assessing depreciation and technology advancements.  \n",
    "\n",
    "**Mileage:** Obtain the mileage of each vehicle, a key indicator of wear and tear and potential maintenance requirements.  \n",
    "\n",
    "**Fuel Type:** Learn about the type of fuel the vehicles run on, whether it's gasoline, diesel, electric, or hybrid.  \n",
    "\n",
    "**Engine Type:** Understand the engine specifications, shedding light on performance and efficiency.  \n",
    "\n",
    "**Transmission:** Determine the transmission type, whether automatic, manual, or another variant.  \n",
    "\n",
    "**Exterior & Interior Colors:** Explore the aesthetic aspects of the vehicles, including exterior and interior color options.  \n",
    "\n",
    "**Accident History:** Discover whether a vehicle has a prior history of accidents or damage, crucial for informed decision-making.  \n",
    "\n",
    "**Clean Title:** Evaluate the availability of a clean title, which can impact the vehicle's resale value and legal status.  \n",
    "\n",
    "**Price:** Access the listed prices for each vehicle, aiding in price comparison and budgeting.  "
   ]
  },
  {
   "cell_type": "code",
   "execution_count": 49,
   "metadata": {},
   "outputs": [
    {
     "data": {
      "text/html": [
       "<div>\n",
       "<style scoped>\n",
       "    .dataframe tbody tr th:only-of-type {\n",
       "        vertical-align: middle;\n",
       "    }\n",
       "\n",
       "    .dataframe tbody tr th {\n",
       "        vertical-align: top;\n",
       "    }\n",
       "\n",
       "    .dataframe thead th {\n",
       "        text-align: right;\n",
       "    }\n",
       "</style>\n",
       "<table border=\"1\" class=\"dataframe\">\n",
       "  <thead>\n",
       "    <tr style=\"text-align: right;\">\n",
       "      <th></th>\n",
       "      <th>brand</th>\n",
       "      <th>model</th>\n",
       "      <th>model_year</th>\n",
       "      <th>milage</th>\n",
       "      <th>fuel_type</th>\n",
       "      <th>engine</th>\n",
       "      <th>transmission</th>\n",
       "      <th>ext_col</th>\n",
       "      <th>int_col</th>\n",
       "      <th>accident</th>\n",
       "      <th>clean_title</th>\n",
       "      <th>price</th>\n",
       "    </tr>\n",
       "  </thead>\n",
       "  <tbody>\n",
       "    <tr>\n",
       "      <th>0</th>\n",
       "      <td>Ford</td>\n",
       "      <td>Utility Police Interceptor Base</td>\n",
       "      <td>2013</td>\n",
       "      <td>51,000 mi.</td>\n",
       "      <td>E85 Flex Fuel</td>\n",
       "      <td>300.0HP 3.7L V6 Cylinder Engine Flex Fuel Capa...</td>\n",
       "      <td>6-Speed A/T</td>\n",
       "      <td>Black</td>\n",
       "      <td>Black</td>\n",
       "      <td>At least 1 accident or damage reported</td>\n",
       "      <td>Yes</td>\n",
       "      <td>$10,300</td>\n",
       "    </tr>\n",
       "    <tr>\n",
       "      <th>1</th>\n",
       "      <td>Hyundai</td>\n",
       "      <td>Palisade SEL</td>\n",
       "      <td>2021</td>\n",
       "      <td>34,742 mi.</td>\n",
       "      <td>Gasoline</td>\n",
       "      <td>3.8L V6 24V GDI DOHC</td>\n",
       "      <td>8-Speed Automatic</td>\n",
       "      <td>Moonlight Cloud</td>\n",
       "      <td>Gray</td>\n",
       "      <td>At least 1 accident or damage reported</td>\n",
       "      <td>Yes</td>\n",
       "      <td>$38,005</td>\n",
       "    </tr>\n",
       "    <tr>\n",
       "      <th>2</th>\n",
       "      <td>Lexus</td>\n",
       "      <td>RX 350 RX 350</td>\n",
       "      <td>2022</td>\n",
       "      <td>22,372 mi.</td>\n",
       "      <td>Gasoline</td>\n",
       "      <td>3.5 Liter DOHC</td>\n",
       "      <td>Automatic</td>\n",
       "      <td>Blue</td>\n",
       "      <td>Black</td>\n",
       "      <td>None reported</td>\n",
       "      <td>NaN</td>\n",
       "      <td>$54,598</td>\n",
       "    </tr>\n",
       "    <tr>\n",
       "      <th>3</th>\n",
       "      <td>INFINITI</td>\n",
       "      <td>Q50 Hybrid Sport</td>\n",
       "      <td>2015</td>\n",
       "      <td>88,900 mi.</td>\n",
       "      <td>Hybrid</td>\n",
       "      <td>354.0HP 3.5L V6 Cylinder Engine Gas/Electric H...</td>\n",
       "      <td>7-Speed A/T</td>\n",
       "      <td>Black</td>\n",
       "      <td>Black</td>\n",
       "      <td>None reported</td>\n",
       "      <td>Yes</td>\n",
       "      <td>$15,500</td>\n",
       "    </tr>\n",
       "    <tr>\n",
       "      <th>4</th>\n",
       "      <td>Audi</td>\n",
       "      <td>Q3 45 S line Premium Plus</td>\n",
       "      <td>2021</td>\n",
       "      <td>9,835 mi.</td>\n",
       "      <td>Gasoline</td>\n",
       "      <td>2.0L I4 16V GDI DOHC Turbo</td>\n",
       "      <td>8-Speed Automatic</td>\n",
       "      <td>Glacier White Metallic</td>\n",
       "      <td>Black</td>\n",
       "      <td>None reported</td>\n",
       "      <td>NaN</td>\n",
       "      <td>$34,999</td>\n",
       "    </tr>\n",
       "  </tbody>\n",
       "</table>\n",
       "</div>"
      ],
      "text/plain": [
       "      brand                            model  model_year      milage  \\\n",
       "0      Ford  Utility Police Interceptor Base        2013  51,000 mi.   \n",
       "1   Hyundai                     Palisade SEL        2021  34,742 mi.   \n",
       "2     Lexus                    RX 350 RX 350        2022  22,372 mi.   \n",
       "3  INFINITI                 Q50 Hybrid Sport        2015  88,900 mi.   \n",
       "4      Audi        Q3 45 S line Premium Plus        2021   9,835 mi.   \n",
       "\n",
       "       fuel_type                                             engine  \\\n",
       "0  E85 Flex Fuel  300.0HP 3.7L V6 Cylinder Engine Flex Fuel Capa...   \n",
       "1       Gasoline                               3.8L V6 24V GDI DOHC   \n",
       "2       Gasoline                                     3.5 Liter DOHC   \n",
       "3         Hybrid  354.0HP 3.5L V6 Cylinder Engine Gas/Electric H...   \n",
       "4       Gasoline                         2.0L I4 16V GDI DOHC Turbo   \n",
       "\n",
       "        transmission                 ext_col int_col  \\\n",
       "0        6-Speed A/T                   Black   Black   \n",
       "1  8-Speed Automatic         Moonlight Cloud    Gray   \n",
       "2          Automatic                    Blue   Black   \n",
       "3        7-Speed A/T                   Black   Black   \n",
       "4  8-Speed Automatic  Glacier White Metallic   Black   \n",
       "\n",
       "                                 accident clean_title    price  \n",
       "0  At least 1 accident or damage reported         Yes  $10,300  \n",
       "1  At least 1 accident or damage reported         Yes  $38,005  \n",
       "2                           None reported         NaN  $54,598  \n",
       "3                           None reported         Yes  $15,500  \n",
       "4                           None reported         NaN  $34,999  "
      ]
     },
     "execution_count": 49,
     "metadata": {},
     "output_type": "execute_result"
    }
   ],
   "source": [
    "df.head()"
   ]
  },
  {
   "cell_type": "code",
   "execution_count": 50,
   "metadata": {},
   "outputs": [
    {
     "name": "stdout",
     "output_type": "stream",
     "text": [
      "<class 'pandas.core.frame.DataFrame'>\n",
      "RangeIndex: 4009 entries, 0 to 4008\n",
      "Data columns (total 12 columns):\n",
      " #   Column        Non-Null Count  Dtype \n",
      "---  ------        --------------  ----- \n",
      " 0   brand         4009 non-null   object\n",
      " 1   model         4009 non-null   object\n",
      " 2   model_year    4009 non-null   int64 \n",
      " 3   milage        4009 non-null   object\n",
      " 4   fuel_type     3839 non-null   object\n",
      " 5   engine        4009 non-null   object\n",
      " 6   transmission  4009 non-null   object\n",
      " 7   ext_col       4009 non-null   object\n",
      " 8   int_col       4009 non-null   object\n",
      " 9   accident      3896 non-null   object\n",
      " 10  clean_title   3413 non-null   object\n",
      " 11  price         4009 non-null   object\n",
      "dtypes: int64(1), object(11)\n",
      "memory usage: 376.0+ KB\n"
     ]
    }
   ],
   "source": [
    "df.info()"
   ]
  },
  {
   "cell_type": "markdown",
   "metadata": {},
   "source": [
    "# Data Cleaning"
   ]
  },
  {
   "cell_type": "code",
   "execution_count": 5,
   "metadata": {},
   "outputs": [
    {
     "data": {
      "text/plain": [
       "array(['Yes', nan], dtype=object)"
      ]
     },
     "execution_count": 5,
     "metadata": {},
     "output_type": "execute_result"
    }
   ],
   "source": [
    "df['clean_title'].unique()"
   ]
  },
  {
   "cell_type": "code",
   "execution_count": 41,
   "metadata": {},
   "outputs": [],
   "source": [
    "df['price'] = df['price'].str.extract('(\\d+,\\d+)', expand=True)\n",
    "df['price'] = df['price'].str.replace(',', '').astype(int)"
   ]
  },
  {
   "cell_type": "code",
   "execution_count": 43,
   "metadata": {},
   "outputs": [],
   "source": [
    "df['milage'] =df['milage'].str.replace(' mi.', '')\n",
    "df['milage'] = df['milage'].str.replace(',', '').astype(int)"
   ]
  },
  {
   "cell_type": "code",
   "execution_count": 6,
   "metadata": {},
   "outputs": [
    {
     "name": "stdout",
     "output_type": "stream",
     "text": [
      "<class 'pandas.core.frame.DataFrame'>\n",
      "RangeIndex: 4009 entries, 0 to 4008\n",
      "Data columns (total 12 columns):\n",
      " #   Column        Non-Null Count  Dtype \n",
      "---  ------        --------------  ----- \n",
      " 0   brand         4009 non-null   object\n",
      " 1   model         4009 non-null   object\n",
      " 2   model_year    4009 non-null   int64 \n",
      " 3   milage        4009 non-null   object\n",
      " 4   fuel_type     3839 non-null   object\n",
      " 5   engine        4009 non-null   object\n",
      " 6   transmission  4009 non-null   object\n",
      " 7   ext_col       4009 non-null   object\n",
      " 8   int_col       4009 non-null   object\n",
      " 9   accident      3896 non-null   object\n",
      " 10  clean_title   3413 non-null   object\n",
      " 11  price         4009 non-null   object\n",
      "dtypes: int64(1), object(11)\n",
      "memory usage: 376.0+ KB\n"
     ]
    }
   ],
   "source": [
    "df.info()"
   ]
  },
  {
   "cell_type": "code",
   "execution_count": 8,
   "metadata": {},
   "outputs": [
    {
     "data": {
      "text/html": [
       "<div>\n",
       "<style scoped>\n",
       "    .dataframe tbody tr th:only-of-type {\n",
       "        vertical-align: middle;\n",
       "    }\n",
       "\n",
       "    .dataframe tbody tr th {\n",
       "        vertical-align: top;\n",
       "    }\n",
       "\n",
       "    .dataframe thead th {\n",
       "        text-align: right;\n",
       "    }\n",
       "</style>\n",
       "<table border=\"1\" class=\"dataframe\">\n",
       "  <thead>\n",
       "    <tr style=\"text-align: right;\">\n",
       "      <th></th>\n",
       "      <th>brand</th>\n",
       "      <th>model</th>\n",
       "      <th>model_year</th>\n",
       "      <th>milage</th>\n",
       "      <th>fuel_type</th>\n",
       "      <th>engine</th>\n",
       "      <th>transmission</th>\n",
       "      <th>ext_col</th>\n",
       "      <th>int_col</th>\n",
       "      <th>accident</th>\n",
       "      <th>clean_title</th>\n",
       "      <th>price</th>\n",
       "    </tr>\n",
       "  </thead>\n",
       "  <tbody>\n",
       "    <tr>\n",
       "      <th>916</th>\n",
       "      <td>Porsche</td>\n",
       "      <td>911 Carrera 4S</td>\n",
       "      <td>2018</td>\n",
       "      <td>31,678 mi.</td>\n",
       "      <td>Gasoline</td>\n",
       "      <td>3.0 Liter</td>\n",
       "      <td>–</td>\n",
       "      <td>Silver</td>\n",
       "      <td>–</td>\n",
       "      <td>None reported</td>\n",
       "      <td>NaN</td>\n",
       "      <td>$106,798</td>\n",
       "    </tr>\n",
       "    <tr>\n",
       "      <th>26</th>\n",
       "      <td>Nissan</td>\n",
       "      <td>Sentra SR</td>\n",
       "      <td>2016</td>\n",
       "      <td>96,541 mi.</td>\n",
       "      <td>Gasoline</td>\n",
       "      <td>1.8 Liter</td>\n",
       "      <td>Automatic</td>\n",
       "      <td>Blue</td>\n",
       "      <td>Black</td>\n",
       "      <td>None reported</td>\n",
       "      <td>NaN</td>\n",
       "      <td>$13,998</td>\n",
       "    </tr>\n",
       "    <tr>\n",
       "      <th>3656</th>\n",
       "      <td>Dodge</td>\n",
       "      <td>Durango SLT</td>\n",
       "      <td>2004</td>\n",
       "      <td>143,000 mi.</td>\n",
       "      <td>Gasoline</td>\n",
       "      <td>335.0HP 5.7L 8 Cylinder Engine Gasoline Fuel</td>\n",
       "      <td>A/T</td>\n",
       "      <td>Beige</td>\n",
       "      <td>Beige</td>\n",
       "      <td>None reported</td>\n",
       "      <td>Yes</td>\n",
       "      <td>$3,200</td>\n",
       "    </tr>\n",
       "    <tr>\n",
       "      <th>3415</th>\n",
       "      <td>Audi</td>\n",
       "      <td>A6 2.0T Premium Plus</td>\n",
       "      <td>2016</td>\n",
       "      <td>96,000 mi.</td>\n",
       "      <td>Gasoline</td>\n",
       "      <td>252.0HP 2.0L 4 Cylinder Engine Gasoline Fuel</td>\n",
       "      <td>8-Speed A/T</td>\n",
       "      <td>Black</td>\n",
       "      <td>Black</td>\n",
       "      <td>None reported</td>\n",
       "      <td>Yes</td>\n",
       "      <td>$21,990</td>\n",
       "    </tr>\n",
       "    <tr>\n",
       "      <th>3654</th>\n",
       "      <td>BMW</td>\n",
       "      <td>M235 i</td>\n",
       "      <td>2015</td>\n",
       "      <td>68,750 mi.</td>\n",
       "      <td>Gasoline</td>\n",
       "      <td>320.0HP 3.0L Straight 6 Cylinder Engine Gasoli...</td>\n",
       "      <td>6-Speed M/T</td>\n",
       "      <td>Red</td>\n",
       "      <td>Black</td>\n",
       "      <td>None reported</td>\n",
       "      <td>Yes</td>\n",
       "      <td>$25,999</td>\n",
       "    </tr>\n",
       "  </tbody>\n",
       "</table>\n",
       "</div>"
      ],
      "text/plain": [
       "        brand                 model  model_year       milage fuel_type  \\\n",
       "916   Porsche        911 Carrera 4S        2018   31,678 mi.  Gasoline   \n",
       "26     Nissan             Sentra SR        2016   96,541 mi.  Gasoline   \n",
       "3656    Dodge           Durango SLT        2004  143,000 mi.  Gasoline   \n",
       "3415     Audi  A6 2.0T Premium Plus        2016   96,000 mi.  Gasoline   \n",
       "3654      BMW                M235 i        2015   68,750 mi.  Gasoline   \n",
       "\n",
       "                                                 engine transmission ext_col  \\\n",
       "916                                           3.0 Liter            –  Silver   \n",
       "26                                            1.8 Liter    Automatic    Blue   \n",
       "3656       335.0HP 5.7L 8 Cylinder Engine Gasoline Fuel          A/T   Beige   \n",
       "3415       252.0HP 2.0L 4 Cylinder Engine Gasoline Fuel  8-Speed A/T   Black   \n",
       "3654  320.0HP 3.0L Straight 6 Cylinder Engine Gasoli...  6-Speed M/T     Red   \n",
       "\n",
       "     int_col       accident clean_title     price  \n",
       "916        –  None reported         NaN  $106,798  \n",
       "26     Black  None reported         NaN   $13,998  \n",
       "3656   Beige  None reported         Yes    $3,200  \n",
       "3415   Black  None reported         Yes   $21,990  \n",
       "3654   Black  None reported         Yes   $25,999  "
      ]
     },
     "execution_count": 8,
     "metadata": {},
     "output_type": "execute_result"
    }
   ],
   "source": [
    "df.sample(5)"
   ]
  },
  {
   "cell_type": "markdown",
   "metadata": {},
   "source": [
    "## Mising Values"
   ]
  },
  {
   "cell_type": "code",
   "execution_count": 11,
   "metadata": {},
   "outputs": [
    {
     "data": {
      "text/plain": [
       "brand             0\n",
       "model             0\n",
       "model_year        0\n",
       "milage            0\n",
       "fuel_type       170\n",
       "engine            0\n",
       "transmission      0\n",
       "ext_col           0\n",
       "int_col           0\n",
       "accident        113\n",
       "clean_title     596\n",
       "price             0\n",
       "dtype: int64"
      ]
     },
     "execution_count": 11,
     "metadata": {},
     "output_type": "execute_result"
    }
   ],
   "source": [
    "df.isnull().sum()"
   ]
  },
  {
   "cell_type": "code",
   "execution_count": 7,
   "metadata": {},
   "outputs": [
    {
     "data": {
      "text/plain": [
       "array(['E85 Flex Fuel', 'Gasoline', 'Hybrid', nan, 'Diesel',\n",
       "       'Plug-In Hybrid', '–', 'not supported'], dtype=object)"
      ]
     },
     "execution_count": 7,
     "metadata": {},
     "output_type": "execute_result"
    }
   ],
   "source": [
    "df['fuel_type'].unique()"
   ]
  },
  {
   "cell_type": "code",
   "execution_count": 10,
   "metadata": {},
   "outputs": [
    {
     "data": {
      "text/plain": [
       "fuel_type\n",
       "Diesel             116\n",
       "E85 Flex Fuel      139\n",
       "Gasoline          3309\n",
       "Hybrid             194\n",
       "Plug-In Hybrid      34\n",
       "not supported        2\n",
       "–                   45\n",
       "Name: fuel_type, dtype: int64"
      ]
     },
     "execution_count": 10,
     "metadata": {},
     "output_type": "execute_result"
    }
   ],
   "source": [
    "df.groupby('fuel_type')['fuel_type'].count()"
   ]
  },
  {
   "cell_type": "code",
   "execution_count": 14,
   "metadata": {},
   "outputs": [],
   "source": [
    "df['fuel_type'] = df['fuel_type'].fillna(df['fuel_type'].mode()[0])"
   ]
  },
  {
   "cell_type": "code",
   "execution_count": 9,
   "metadata": {},
   "outputs": [
    {
     "data": {
      "text/plain": [
       "57"
      ]
     },
     "execution_count": 9,
     "metadata": {},
     "output_type": "execute_result"
    }
   ],
   "source": [
    "df['brand'].nunique()"
   ]
  },
  {
   "cell_type": "code",
   "execution_count": 10,
   "metadata": {},
   "outputs": [
    {
     "data": {
      "text/plain": [
       "brand\n",
       "Rolls-Royce    370992.727273\n",
       "Lamborghini    291233.846154\n",
       "Ferrari        243790.666667\n",
       "McLaren        213457.500000\n",
       "Bentley        137553.545455\n",
       "Aston          115199.555556\n",
       "Lucid          101966.333333\n",
       "Rivian          93138.176471\n",
       "Porsche         80804.029851\n",
       "Maybach         64250.000000\n",
       "Name: price, dtype: float64"
      ]
     },
     "execution_count": 10,
     "metadata": {},
     "output_type": "execute_result"
    }
   ],
   "source": [
    "df.groupby('brand')['price'].mean().sort_values(ascending=False).head(10)"
   ]
  },
  {
   "cell_type": "code",
   "execution_count": 17,
   "metadata": {},
   "outputs": [
    {
     "data": {
      "text/plain": [
       "array(['At least 1 accident or damage reported', 'None reported', nan],\n",
       "      dtype=object)"
      ]
     },
     "execution_count": 17,
     "metadata": {},
     "output_type": "execute_result"
    }
   ],
   "source": [
    "df['accident'].unique()"
   ]
  },
  {
   "cell_type": "code",
   "execution_count": 18,
   "metadata": {},
   "outputs": [
    {
     "data": {
      "text/plain": [
       "accident\n",
       "At least 1 accident or damage reported     986\n",
       "None reported                             2910\n",
       "Name: accident, dtype: int64"
      ]
     },
     "execution_count": 18,
     "metadata": {},
     "output_type": "execute_result"
    }
   ],
   "source": [
    "df.groupby('accident')['accident'].count()"
   ]
  },
  {
   "cell_type": "code",
   "execution_count": 23,
   "metadata": {},
   "outputs": [],
   "source": [
    "df['accident'] = df['accident'].fillna(df['accident'].mode()[0])"
   ]
  },
  {
   "cell_type": "code",
   "execution_count": 38,
   "metadata": {},
   "outputs": [],
   "source": [
    "accident_map = {'At least 1 accident or damage reported': 1, 'None reported': 0}\n",
    "df['accident'] =df['accident'].apply(lambda x : accident_map[x])"
   ]
  },
  {
   "cell_type": "code",
   "execution_count": 27,
   "metadata": {},
   "outputs": [
    {
     "data": {
      "text/plain": [
       "clean_title\n",
       "No      596\n",
       "Yes    3413\n",
       "Name: clean_title, dtype: int64"
      ]
     },
     "execution_count": 27,
     "metadata": {},
     "output_type": "execute_result"
    }
   ],
   "source": [
    "df.groupby('clean_title')['clean_title'].count()"
   ]
  },
  {
   "cell_type": "code",
   "execution_count": 26,
   "metadata": {},
   "outputs": [],
   "source": [
    "df['clean_title'] = df['clean_title'].fillna('No')"
   ]
  },
  {
   "cell_type": "code",
   "execution_count": 12,
   "metadata": {},
   "outputs": [
    {
     "data": {
      "text/plain": [
       "array(['Ford', 'Hyundai', 'Lexus', 'INFINITI', 'Audi', 'Acura', 'BMW',\n",
       "       'Tesla', 'Land', 'Aston', 'Toyota', 'Lincoln', 'Jaguar',\n",
       "       'Mercedes-Benz', 'Dodge', 'Nissan', 'Genesis', 'Chevrolet', 'Kia',\n",
       "       'Jeep', 'Bentley', 'Honda', 'Lucid', 'MINI', 'Porsche', 'Hummer',\n",
       "       'Chrysler', 'Volvo', 'Cadillac', 'Lamborghini', 'Maserati',\n",
       "       'Volkswagen', 'Subaru', 'Rivian', 'GMC', 'RAM', 'Alfa', 'Ferrari',\n",
       "       'Scion', 'Mitsubishi', 'Mazda', 'Saturn', 'Bugatti', 'Polestar',\n",
       "       'Rolls-Royce', 'McLaren', 'Buick', 'Lotus', 'Pontiac', 'FIAT',\n",
       "       'Karma', 'Saab', 'Mercury', 'Plymouth', 'smart', 'Maybach',\n",
       "       'Suzuki'], dtype=object)"
      ]
     },
     "execution_count": 12,
     "metadata": {},
     "output_type": "execute_result"
    }
   ],
   "source": [
    "df['brand'].unique()"
   ]
  },
  {
   "cell_type": "code",
   "execution_count": 40,
   "metadata": {},
   "outputs": [
    {
     "name": "stdout",
     "output_type": "stream",
     "text": [
      "<class 'pandas.core.frame.DataFrame'>\n",
      "RangeIndex: 4009 entries, 0 to 4008\n",
      "Data columns (total 13 columns):\n",
      " #   Column             Non-Null Count  Dtype  \n",
      "---  ------             --------------  -----  \n",
      " 0   brand              4009 non-null   object \n",
      " 1   model              4009 non-null   object \n",
      " 2   model_year         4009 non-null   int64  \n",
      " 3   milage             4009 non-null   float64\n",
      " 4   fuel_type          4009 non-null   object \n",
      " 5   engine             4009 non-null   object \n",
      " 6   transmission       4009 non-null   object \n",
      " 7   ext_col            4009 non-null   object \n",
      " 8   int_col            4009 non-null   object \n",
      " 9   accident           4009 non-null   int64  \n",
      " 10  clean_title        4009 non-null   object \n",
      " 11  price              4009 non-null   float64\n",
      " 12  transmission_type  4009 non-null   object \n",
      "dtypes: float64(2), int64(2), object(9)\n",
      "memory usage: 407.3+ KB\n"
     ]
    }
   ],
   "source": [
    "df.info()"
   ]
  },
  {
   "cell_type": "markdown",
   "metadata": {},
   "source": [
    "# Feature Engineering"
   ]
  },
  {
   "cell_type": "code",
   "execution_count": 163,
   "metadata": {},
   "outputs": [
    {
     "data": {
      "text/html": [
       "<div>\n",
       "<style scoped>\n",
       "    .dataframe tbody tr th:only-of-type {\n",
       "        vertical-align: middle;\n",
       "    }\n",
       "\n",
       "    .dataframe tbody tr th {\n",
       "        vertical-align: top;\n",
       "    }\n",
       "\n",
       "    .dataframe thead th {\n",
       "        text-align: right;\n",
       "    }\n",
       "</style>\n",
       "<table border=\"1\" class=\"dataframe\">\n",
       "  <thead>\n",
       "    <tr style=\"text-align: right;\">\n",
       "      <th></th>\n",
       "      <th>brand</th>\n",
       "      <th>model</th>\n",
       "      <th>model_year</th>\n",
       "      <th>milage</th>\n",
       "      <th>fuel_type</th>\n",
       "      <th>engine</th>\n",
       "      <th>transmission</th>\n",
       "      <th>ext_col</th>\n",
       "      <th>int_col</th>\n",
       "      <th>accident</th>\n",
       "      <th>clean_title</th>\n",
       "      <th>price</th>\n",
       "      <th>transmission_type</th>\n",
       "      <th>engine_litre</th>\n",
       "      <th>hp</th>\n",
       "      <th>cylinders</th>\n",
       "    </tr>\n",
       "  </thead>\n",
       "  <tbody>\n",
       "    <tr>\n",
       "      <th>374</th>\n",
       "      <td>Subaru</td>\n",
       "      <td>Outback 3.6R Touring</td>\n",
       "      <td>2017</td>\n",
       "      <td>100680.0</td>\n",
       "      <td>Gasoline</td>\n",
       "      <td>256.0HP 3.6L Flat 6 Cylinder Engine Gasoline Fuel</td>\n",
       "      <td>A/T</td>\n",
       "      <td>Brown</td>\n",
       "      <td>–</td>\n",
       "      <td>0</td>\n",
       "      <td>Yes</td>\n",
       "      <td>20500.0</td>\n",
       "      <td>Automatic</td>\n",
       "      <td>3.6</td>\n",
       "      <td>256.0</td>\n",
       "      <td>6.0</td>\n",
       "    </tr>\n",
       "    <tr>\n",
       "      <th>1527</th>\n",
       "      <td>Hyundai</td>\n",
       "      <td>Genesis 3.8</td>\n",
       "      <td>2015</td>\n",
       "      <td>61300.0</td>\n",
       "      <td>Gasoline</td>\n",
       "      <td>311.0HP 3.8L V6 Cylinder Engine Gasoline Fuel</td>\n",
       "      <td>8-Speed A/T</td>\n",
       "      <td>Silver</td>\n",
       "      <td>Gray</td>\n",
       "      <td>0</td>\n",
       "      <td>No</td>\n",
       "      <td>20150.0</td>\n",
       "      <td>Automatic</td>\n",
       "      <td>3.8</td>\n",
       "      <td>311.0</td>\n",
       "      <td>6.0</td>\n",
       "    </tr>\n",
       "    <tr>\n",
       "      <th>1429</th>\n",
       "      <td>BMW</td>\n",
       "      <td>X5 xDrive35i</td>\n",
       "      <td>2016</td>\n",
       "      <td>89000.0</td>\n",
       "      <td>Gasoline</td>\n",
       "      <td>300.0HP 3.0L Straight 6 Cylinder Engine Gasoli...</td>\n",
       "      <td>8-Speed A/T</td>\n",
       "      <td>Black</td>\n",
       "      <td>Black</td>\n",
       "      <td>0</td>\n",
       "      <td>Yes</td>\n",
       "      <td>24000.0</td>\n",
       "      <td>Automatic</td>\n",
       "      <td>3.0</td>\n",
       "      <td>300.0</td>\n",
       "      <td>6.0</td>\n",
       "    </tr>\n",
       "    <tr>\n",
       "      <th>421</th>\n",
       "      <td>Maserati</td>\n",
       "      <td>Ghibli S Q4</td>\n",
       "      <td>2016</td>\n",
       "      <td>1000.0</td>\n",
       "      <td>Gasoline</td>\n",
       "      <td>404.0HP 3.0L V6 Cylinder Engine Gasoline Fuel</td>\n",
       "      <td>Transmission w/Dual Shift Mode</td>\n",
       "      <td>Gray</td>\n",
       "      <td>Red</td>\n",
       "      <td>0</td>\n",
       "      <td>Yes</td>\n",
       "      <td>36000.0</td>\n",
       "      <td>Manual</td>\n",
       "      <td>3.0</td>\n",
       "      <td>404.0</td>\n",
       "      <td>6.0</td>\n",
       "    </tr>\n",
       "    <tr>\n",
       "      <th>2931</th>\n",
       "      <td>BMW</td>\n",
       "      <td>840 Gran Coupe i xDrive</td>\n",
       "      <td>2020</td>\n",
       "      <td>25793.0</td>\n",
       "      <td>Gasoline</td>\n",
       "      <td>3.0L I6 24V GDI DOHC Turbo</td>\n",
       "      <td>8-Speed Automatic</td>\n",
       "      <td>Black Sapphire Metallic</td>\n",
       "      <td>Black</td>\n",
       "      <td>0</td>\n",
       "      <td>No</td>\n",
       "      <td>52999.0</td>\n",
       "      <td>Automatic</td>\n",
       "      <td>3.0</td>\n",
       "      <td>300.0</td>\n",
       "      <td>6.0</td>\n",
       "    </tr>\n",
       "  </tbody>\n",
       "</table>\n",
       "</div>"
      ],
      "text/plain": [
       "         brand                    model  model_year    milage fuel_type  \\\n",
       "374     Subaru     Outback 3.6R Touring        2017  100680.0  Gasoline   \n",
       "1527   Hyundai              Genesis 3.8        2015   61300.0  Gasoline   \n",
       "1429       BMW             X5 xDrive35i        2016   89000.0  Gasoline   \n",
       "421   Maserati              Ghibli S Q4        2016    1000.0  Gasoline   \n",
       "2931       BMW  840 Gran Coupe i xDrive        2020   25793.0  Gasoline   \n",
       "\n",
       "                                                 engine  \\\n",
       "374   256.0HP 3.6L Flat 6 Cylinder Engine Gasoline Fuel   \n",
       "1527      311.0HP 3.8L V6 Cylinder Engine Gasoline Fuel   \n",
       "1429  300.0HP 3.0L Straight 6 Cylinder Engine Gasoli...   \n",
       "421       404.0HP 3.0L V6 Cylinder Engine Gasoline Fuel   \n",
       "2931                         3.0L I6 24V GDI DOHC Turbo   \n",
       "\n",
       "                        transmission                  ext_col int_col  \\\n",
       "374                              A/T                    Brown       –   \n",
       "1527                     8-Speed A/T                   Silver    Gray   \n",
       "1429                     8-Speed A/T                    Black   Black   \n",
       "421   Transmission w/Dual Shift Mode                     Gray     Red   \n",
       "2931               8-Speed Automatic  Black Sapphire Metallic   Black   \n",
       "\n",
       "      accident clean_title    price transmission_type  engine_litre     hp  \\\n",
       "374          0         Yes  20500.0         Automatic           3.6  256.0   \n",
       "1527         0          No  20150.0         Automatic           3.8  311.0   \n",
       "1429         0         Yes  24000.0         Automatic           3.0  300.0   \n",
       "421          0         Yes  36000.0            Manual           3.0  404.0   \n",
       "2931         0          No  52999.0         Automatic           3.0  300.0   \n",
       "\n",
       "      cylinders  \n",
       "374         6.0  \n",
       "1527        6.0  \n",
       "1429        6.0  \n",
       "421         6.0  \n",
       "2931        6.0  "
      ]
     },
     "execution_count": 163,
     "metadata": {},
     "output_type": "execute_result"
    }
   ],
   "source": [
    "df.sample(5)"
   ]
  },
  {
   "cell_type": "code",
   "execution_count": 33,
   "metadata": {},
   "outputs": [],
   "source": [
    "df['transmission_type'] = df['transmission'].apply(lambda x: 'Automatic' if 'a/t' in x.lower() or 'automatic' in x.lower() else 'Manual')"
   ]
  },
  {
   "cell_type": "code",
   "execution_count": 35,
   "metadata": {},
   "outputs": [],
   "source": [
    "df['milage'] = df['milage'].str.replace(r'[^\\d.]', '', regex=True).astype(float)\n",
    "df['price'] = df['price'].str.replace(r'[^\\d.]', '', regex=True).astype(float)"
   ]
  },
  {
   "cell_type": "code",
   "execution_count": 95,
   "metadata": {},
   "outputs": [],
   "source": [
    "def extract_litre_eng(engine_desc):\n",
    "    match = re.search(r'(\\d+(\\.\\d+)?)\\s*[Ll](?:iter)?', engine_desc)\n",
    "    return float(match.group(1)) if match else None\n",
    "\n",
    "df['engine_litre'] = df['engine'].apply(extract_litre_eng)\n",
    "df['engine_litre'].fillna(df['engine_litre'].mode()[0], inplace=True)"
   ]
  },
  {
   "cell_type": "code",
   "execution_count": 127,
   "metadata": {},
   "outputs": [
    {
     "name": "stdout",
     "output_type": "stream",
     "text": [
      "Hp Mean :  332.20649796938454\n",
      "Hp Mode :  300.0\n"
     ]
    }
   ],
   "source": [
    "def extract_hp(engine_desc):\n",
    "    match  = re.search(r'(\\d+(\\.\\d+)?)HP', engine_desc)\n",
    "    return float(match.group(1)) if match else None\n",
    "\n",
    "df_hp = pd.DataFrame()\n",
    "df_hp['engine'] = df['engine']\n",
    "df_hp['hp'] = df_hp['engine'].apply(extract_hp)\n",
    "print('Hp Mean : ',df_hp['hp'].mean())\n",
    "print('Hp Mode : ',df_hp['hp'].mode()[0])"
   ]
  },
  {
   "cell_type": "code",
   "execution_count": 129,
   "metadata": {},
   "outputs": [],
   "source": [
    "df['hp'] = df['engine'].apply(extract_hp)\n",
    "df['hp'].fillna(df['hp'].mode()[0], inplace=True)"
   ]
  },
  {
   "cell_type": "code",
   "execution_count": 162,
   "metadata": {},
   "outputs": [],
   "source": [
    "def extract_cylinders(engine_desc):\n",
    "    match = re.search(r'\\b([VvIi]\\d+)\\b', engine_desc)\n",
    "    if match:\n",
    "        config = match.group(1)\n",
    "        return int(config[1:])  \n",
    "\n",
    "    match = re.search(r'(\\d+(\\.\\d+)?)\\s*L', engine_desc)\n",
    "    if match:\n",
    "        displacement = float(match.group(1))\n",
    "        if displacement <= 2.5:\n",
    "            return 4  \n",
    "        elif displacement <= 3.8:\n",
    "            return 6  \n",
    "        else:\n",
    "            return 8  \n",
    "    return None\n",
    "\n",
    "\n",
    "df['cylinders'] = df['engine'].apply(extract_cylinders)\n",
    "df['cylinders'].fillna(df['cylinders'].mode()[0], inplace=True)"
   ]
  },
  {
   "cell_type": "code",
   "execution_count": 185,
   "metadata": {},
   "outputs": [
    {
     "data": {
      "text/plain": [
       "array(['6-Speed A/T', '8-Speed Automatic', 'Automatic', '7-Speed A/T',\n",
       "       'F', 'A/T', '8-Speed A/T', 'Transmission w/Dual Shift Mode',\n",
       "       '9-Speed Automatic', '6-Speed M/T', '10-Speed A/T', '9-Speed A/T',\n",
       "       '5-Speed A/T', '1-Speed A/T', 'Automatic CVT',\n",
       "       '7-Speed Automatic with Auto-Shift', 'CVT-F', 'M/T',\n",
       "       '6-Speed Automatic with Auto-Shift', '10-Speed Automatic',\n",
       "       'CVT Transmission', '4-Speed A/T', '6-Speed Automatic',\n",
       "       '4-Speed Automatic', '7-Speed M/T',\n",
       "       '8-Speed Automatic with Auto-Shift', '5-Speed Automatic',\n",
       "       '8-SPEED AT', '1-Speed Automatic', '5-Speed M/T', 'Manual',\n",
       "       '6-Speed Manual', 'Variable', '2', '7-Speed Manual',\n",
       "       'Automatic, 9-Spd 9G-Tronic', 'Automatic, 8-Spd',\n",
       "       'Automatic, 8-Spd Sport w/Sport & Manual Modes', '–',\n",
       "       'Auto, 6-Spd w/CmdShft', 'Transmission Overdrive Switch',\n",
       "       '7-Speed Automatic', 'Automatic, 8-Spd PDK Dual-Clutch',\n",
       "       'Automatic, 8-Spd M STEPTRONIC w/Drivelogic, Sport & Manual Modes',\n",
       "       'Automatic, 8-Spd Dual-Clutch', '6-Speed',\n",
       "       'Single-Speed Fixed Gear', 'Automatic, 10-Spd',\n",
       "       '2-Speed Automatic', '7-Speed',\n",
       "       'Automatic, 7-Spd S tronic Dual-Clutch', 'Manual, 6-Spd',\n",
       "       '6-Speed Electronically Controlled Automatic with O',\n",
       "       '6 Speed At/Mt', '8-SPEED A/T',\n",
       "       '10-Speed Automatic with Overdrive', '7-Speed DCT Automatic',\n",
       "       '9-Speed Automatic with Auto-Shift',\n",
       "       'SCHEDULED FOR OR IN PRODUCTION', '2-Speed A/T', '6 Speed Mt',\n",
       "       '8-Speed Manual'], dtype=object)"
      ]
     },
     "execution_count": 185,
     "metadata": {},
     "output_type": "execute_result"
    }
   ],
   "source": [
    "df['transmission'].unique()"
   ]
  },
  {
   "cell_type": "code",
   "execution_count": 184,
   "metadata": {},
   "outputs": [
    {
     "ename": "error",
     "evalue": "nothing to repeat at position 32",
     "output_type": "error",
     "traceback": [
      "\u001b[1;31m---------------------------------------------------------------------------\u001b[0m",
      "\u001b[1;31merror\u001b[0m                                     Traceback (most recent call last)",
      "Cell \u001b[1;32mIn[184], line 11\u001b[0m\n\u001b[0;32m      8\u001b[0m     \u001b[38;5;28;01melse\u001b[39;00m:\n\u001b[0;32m      9\u001b[0m         \u001b[38;5;28;01mreturn\u001b[39;00m \u001b[38;5;28;01mNone\u001b[39;00m  \u001b[38;5;66;03m# Return None if no speed indication is found\u001b[39;00m\n\u001b[1;32m---> 11\u001b[0m extract_speed(\u001b[38;5;124m'\u001b[39m\u001b[38;5;124m6-Speed A/T\u001b[39m\u001b[38;5;124m'\u001b[39m)\n",
      "Cell \u001b[1;32mIn[184], line 3\u001b[0m, in \u001b[0;36mextract_speed\u001b[1;34m(transmission_desc)\u001b[0m\n\u001b[0;32m      1\u001b[0m \u001b[38;5;28;01mdef\u001b[39;00m \u001b[38;5;21mextract_speed\u001b[39m(transmission_desc):\n\u001b[0;32m      2\u001b[0m     \u001b[38;5;66;03m# Regular expression to capture speed information\u001b[39;00m\n\u001b[1;32m----> 3\u001b[0m     match \u001b[38;5;241m=\u001b[39m re\u001b[38;5;241m.\u001b[39msearch(\u001b[38;5;124mr\u001b[39m\u001b[38;5;124m'\u001b[39m\u001b[38;5;124mSingle-Speed|(\u001b[39m\u001b[38;5;124m\\\u001b[39m\u001b[38;5;124md+)\u001b[39m\u001b[38;5;124m\\\u001b[39m\u001b[38;5;124ms*(?:-?SPEED|?Speed|A/T|M/T|Automatic|Manual|CVT)\u001b[39m\u001b[38;5;124m'\u001b[39m, transmission_desc)\n\u001b[0;32m      4\u001b[0m     \u001b[38;5;28;01mif\u001b[39;00m match:\n\u001b[0;32m      5\u001b[0m         \u001b[38;5;28;01mreturn\u001b[39;00m \u001b[38;5;28mfloat\u001b[39m(match\u001b[38;5;241m.\u001b[39mgroup(\u001b[38;5;241m1\u001b[39m))  \u001b[38;5;66;03m# Extract and return the speed as a float\u001b[39;00m\n",
      "File \u001b[1;32mc:\\ProgramData\\anaconda3\\Lib\\re\\__init__.py:176\u001b[0m, in \u001b[0;36msearch\u001b[1;34m(pattern, string, flags)\u001b[0m\n\u001b[0;32m    173\u001b[0m \u001b[38;5;28;01mdef\u001b[39;00m \u001b[38;5;21msearch\u001b[39m(pattern, string, flags\u001b[38;5;241m=\u001b[39m\u001b[38;5;241m0\u001b[39m):\n\u001b[0;32m    174\u001b[0m \u001b[38;5;250m    \u001b[39m\u001b[38;5;124;03m\"\"\"Scan through string looking for a match to the pattern, returning\u001b[39;00m\n\u001b[0;32m    175\u001b[0m \u001b[38;5;124;03m    a Match object, or None if no match was found.\"\"\"\u001b[39;00m\n\u001b[1;32m--> 176\u001b[0m     \u001b[38;5;28;01mreturn\u001b[39;00m _compile(pattern, flags)\u001b[38;5;241m.\u001b[39msearch(string)\n",
      "File \u001b[1;32mc:\\ProgramData\\anaconda3\\Lib\\re\\__init__.py:294\u001b[0m, in \u001b[0;36m_compile\u001b[1;34m(pattern, flags)\u001b[0m\n\u001b[0;32m    288\u001b[0m     \u001b[38;5;28;01mimport\u001b[39;00m \u001b[38;5;21;01mwarnings\u001b[39;00m\n\u001b[0;32m    289\u001b[0m     warnings\u001b[38;5;241m.\u001b[39mwarn(\u001b[38;5;124m\"\u001b[39m\u001b[38;5;124mThe re.TEMPLATE/re.T flag is deprecated \u001b[39m\u001b[38;5;124m\"\u001b[39m\n\u001b[0;32m    290\u001b[0m               \u001b[38;5;124m\"\u001b[39m\u001b[38;5;124mas it is an undocumented flag \u001b[39m\u001b[38;5;124m\"\u001b[39m\n\u001b[0;32m    291\u001b[0m               \u001b[38;5;124m\"\u001b[39m\u001b[38;5;124mwithout an obvious purpose. \u001b[39m\u001b[38;5;124m\"\u001b[39m\n\u001b[0;32m    292\u001b[0m               \u001b[38;5;124m\"\u001b[39m\u001b[38;5;124mDon\u001b[39m\u001b[38;5;124m'\u001b[39m\u001b[38;5;124mt use it.\u001b[39m\u001b[38;5;124m\"\u001b[39m,\n\u001b[0;32m    293\u001b[0m               \u001b[38;5;167;01mDeprecationWarning\u001b[39;00m)\n\u001b[1;32m--> 294\u001b[0m p \u001b[38;5;241m=\u001b[39m _compiler\u001b[38;5;241m.\u001b[39mcompile(pattern, flags)\n\u001b[0;32m    295\u001b[0m \u001b[38;5;28;01mif\u001b[39;00m \u001b[38;5;129;01mnot\u001b[39;00m (flags \u001b[38;5;241m&\u001b[39m DEBUG):\n\u001b[0;32m    296\u001b[0m     \u001b[38;5;28;01mif\u001b[39;00m \u001b[38;5;28mlen\u001b[39m(_cache) \u001b[38;5;241m>\u001b[39m\u001b[38;5;241m=\u001b[39m _MAXCACHE:\n\u001b[0;32m    297\u001b[0m         \u001b[38;5;66;03m# Drop the oldest item\u001b[39;00m\n",
      "File \u001b[1;32mc:\\ProgramData\\anaconda3\\Lib\\re\\_compiler.py:745\u001b[0m, in \u001b[0;36mcompile\u001b[1;34m(p, flags)\u001b[0m\n\u001b[0;32m    743\u001b[0m \u001b[38;5;28;01mif\u001b[39;00m isstring(p):\n\u001b[0;32m    744\u001b[0m     pattern \u001b[38;5;241m=\u001b[39m p\n\u001b[1;32m--> 745\u001b[0m     p \u001b[38;5;241m=\u001b[39m _parser\u001b[38;5;241m.\u001b[39mparse(p, flags)\n\u001b[0;32m    746\u001b[0m \u001b[38;5;28;01melse\u001b[39;00m:\n\u001b[0;32m    747\u001b[0m     pattern \u001b[38;5;241m=\u001b[39m \u001b[38;5;28;01mNone\u001b[39;00m\n",
      "File \u001b[1;32mc:\\ProgramData\\anaconda3\\Lib\\re\\_parser.py:989\u001b[0m, in \u001b[0;36mparse\u001b[1;34m(str, flags, state)\u001b[0m\n\u001b[0;32m    986\u001b[0m state\u001b[38;5;241m.\u001b[39mflags \u001b[38;5;241m=\u001b[39m flags\n\u001b[0;32m    987\u001b[0m state\u001b[38;5;241m.\u001b[39mstr \u001b[38;5;241m=\u001b[39m \u001b[38;5;28mstr\u001b[39m\n\u001b[1;32m--> 989\u001b[0m p \u001b[38;5;241m=\u001b[39m _parse_sub(source, state, flags \u001b[38;5;241m&\u001b[39m SRE_FLAG_VERBOSE, \u001b[38;5;241m0\u001b[39m)\n\u001b[0;32m    990\u001b[0m p\u001b[38;5;241m.\u001b[39mstate\u001b[38;5;241m.\u001b[39mflags \u001b[38;5;241m=\u001b[39m fix_flags(\u001b[38;5;28mstr\u001b[39m, p\u001b[38;5;241m.\u001b[39mstate\u001b[38;5;241m.\u001b[39mflags)\n\u001b[0;32m    992\u001b[0m \u001b[38;5;28;01mif\u001b[39;00m source\u001b[38;5;241m.\u001b[39mnext \u001b[38;5;129;01mis\u001b[39;00m \u001b[38;5;129;01mnot\u001b[39;00m \u001b[38;5;28;01mNone\u001b[39;00m:\n",
      "File \u001b[1;32mc:\\ProgramData\\anaconda3\\Lib\\re\\_parser.py:464\u001b[0m, in \u001b[0;36m_parse_sub\u001b[1;34m(source, state, verbose, nested)\u001b[0m\n\u001b[0;32m    462\u001b[0m start \u001b[38;5;241m=\u001b[39m source\u001b[38;5;241m.\u001b[39mtell()\n\u001b[0;32m    463\u001b[0m \u001b[38;5;28;01mwhile\u001b[39;00m \u001b[38;5;28;01mTrue\u001b[39;00m:\n\u001b[1;32m--> 464\u001b[0m     itemsappend(_parse(source, state, verbose, nested \u001b[38;5;241m+\u001b[39m \u001b[38;5;241m1\u001b[39m,\n\u001b[0;32m    465\u001b[0m                        \u001b[38;5;129;01mnot\u001b[39;00m nested \u001b[38;5;129;01mand\u001b[39;00m \u001b[38;5;129;01mnot\u001b[39;00m items))\n\u001b[0;32m    466\u001b[0m     \u001b[38;5;28;01mif\u001b[39;00m \u001b[38;5;129;01mnot\u001b[39;00m sourcematch(\u001b[38;5;124m\"\u001b[39m\u001b[38;5;124m|\u001b[39m\u001b[38;5;124m\"\u001b[39m):\n\u001b[0;32m    467\u001b[0m         \u001b[38;5;28;01mbreak\u001b[39;00m\n",
      "File \u001b[1;32mc:\\ProgramData\\anaconda3\\Lib\\re\\_parser.py:872\u001b[0m, in \u001b[0;36m_parse\u001b[1;34m(source, state, verbose, nested, first)\u001b[0m\n\u001b[0;32m    869\u001b[0m     group \u001b[38;5;241m=\u001b[39m \u001b[38;5;28;01mNone\u001b[39;00m\n\u001b[0;32m    870\u001b[0m sub_verbose \u001b[38;5;241m=\u001b[39m ((verbose \u001b[38;5;129;01mor\u001b[39;00m (add_flags \u001b[38;5;241m&\u001b[39m SRE_FLAG_VERBOSE)) \u001b[38;5;129;01mand\u001b[39;00m\n\u001b[0;32m    871\u001b[0m                \u001b[38;5;129;01mnot\u001b[39;00m (del_flags \u001b[38;5;241m&\u001b[39m SRE_FLAG_VERBOSE))\n\u001b[1;32m--> 872\u001b[0m p \u001b[38;5;241m=\u001b[39m _parse_sub(source, state, sub_verbose, nested \u001b[38;5;241m+\u001b[39m \u001b[38;5;241m1\u001b[39m)\n\u001b[0;32m    873\u001b[0m \u001b[38;5;28;01mif\u001b[39;00m \u001b[38;5;129;01mnot\u001b[39;00m source\u001b[38;5;241m.\u001b[39mmatch(\u001b[38;5;124m\"\u001b[39m\u001b[38;5;124m)\u001b[39m\u001b[38;5;124m\"\u001b[39m):\n\u001b[0;32m    874\u001b[0m     \u001b[38;5;28;01mraise\u001b[39;00m source\u001b[38;5;241m.\u001b[39merror(\u001b[38;5;124m\"\u001b[39m\u001b[38;5;124mmissing ), unterminated subpattern\u001b[39m\u001b[38;5;124m\"\u001b[39m,\n\u001b[0;32m    875\u001b[0m                        source\u001b[38;5;241m.\u001b[39mtell() \u001b[38;5;241m-\u001b[39m start)\n",
      "File \u001b[1;32mc:\\ProgramData\\anaconda3\\Lib\\re\\_parser.py:464\u001b[0m, in \u001b[0;36m_parse_sub\u001b[1;34m(source, state, verbose, nested)\u001b[0m\n\u001b[0;32m    462\u001b[0m start \u001b[38;5;241m=\u001b[39m source\u001b[38;5;241m.\u001b[39mtell()\n\u001b[0;32m    463\u001b[0m \u001b[38;5;28;01mwhile\u001b[39;00m \u001b[38;5;28;01mTrue\u001b[39;00m:\n\u001b[1;32m--> 464\u001b[0m     itemsappend(_parse(source, state, verbose, nested \u001b[38;5;241m+\u001b[39m \u001b[38;5;241m1\u001b[39m,\n\u001b[0;32m    465\u001b[0m                        \u001b[38;5;129;01mnot\u001b[39;00m nested \u001b[38;5;129;01mand\u001b[39;00m \u001b[38;5;129;01mnot\u001b[39;00m items))\n\u001b[0;32m    466\u001b[0m     \u001b[38;5;28;01mif\u001b[39;00m \u001b[38;5;129;01mnot\u001b[39;00m sourcematch(\u001b[38;5;124m\"\u001b[39m\u001b[38;5;124m|\u001b[39m\u001b[38;5;124m\"\u001b[39m):\n\u001b[0;32m    467\u001b[0m         \u001b[38;5;28;01mbreak\u001b[39;00m\n",
      "File \u001b[1;32mc:\\ProgramData\\anaconda3\\Lib\\re\\_parser.py:691\u001b[0m, in \u001b[0;36m_parse\u001b[1;34m(source, state, verbose, nested, first)\u001b[0m\n\u001b[0;32m    689\u001b[0m     item \u001b[38;5;241m=\u001b[39m \u001b[38;5;28;01mNone\u001b[39;00m\n\u001b[0;32m    690\u001b[0m \u001b[38;5;28;01mif\u001b[39;00m \u001b[38;5;129;01mnot\u001b[39;00m item \u001b[38;5;129;01mor\u001b[39;00m item[\u001b[38;5;241m0\u001b[39m][\u001b[38;5;241m0\u001b[39m] \u001b[38;5;129;01mis\u001b[39;00m AT:\n\u001b[1;32m--> 691\u001b[0m     \u001b[38;5;28;01mraise\u001b[39;00m source\u001b[38;5;241m.\u001b[39merror(\u001b[38;5;124m\"\u001b[39m\u001b[38;5;124mnothing to repeat\u001b[39m\u001b[38;5;124m\"\u001b[39m,\n\u001b[0;32m    692\u001b[0m                        source\u001b[38;5;241m.\u001b[39mtell() \u001b[38;5;241m-\u001b[39m here \u001b[38;5;241m+\u001b[39m \u001b[38;5;28mlen\u001b[39m(this))\n\u001b[0;32m    693\u001b[0m \u001b[38;5;28;01mif\u001b[39;00m item[\u001b[38;5;241m0\u001b[39m][\u001b[38;5;241m0\u001b[39m] \u001b[38;5;129;01min\u001b[39;00m _REPEATCODES:\n\u001b[0;32m    694\u001b[0m     \u001b[38;5;28;01mraise\u001b[39;00m source\u001b[38;5;241m.\u001b[39merror(\u001b[38;5;124m\"\u001b[39m\u001b[38;5;124mmultiple repeat\u001b[39m\u001b[38;5;124m\"\u001b[39m,\n\u001b[0;32m    695\u001b[0m                        source\u001b[38;5;241m.\u001b[39mtell() \u001b[38;5;241m-\u001b[39m here \u001b[38;5;241m+\u001b[39m \u001b[38;5;28mlen\u001b[39m(this))\n",
      "\u001b[1;31merror\u001b[0m: nothing to repeat at position 32"
     ]
    }
   ],
   "source": [
    "def extract_speed(transmission_desc):\n",
    "    # Regular expression to capture speed information\n",
    "    match = re.search(r'Single-Speed|(\\d+)\\s*(?:-?SPEED|Speed|A/T|M/T|Automatic|Manual|CVT)', transmission_desc)\n",
    "    if match:\n",
    "        return float(match.group(1))  # Extract and return the speed as a float\n",
    "    elif re.search(r'Single-Speed', transmission_desc, re.IGNORECASE):\n",
    "        return 1  # Return 1 if \"Single-Speed\" is found\n",
    "    else:\n",
    "        return None  # Return None if no speed indication is found\n",
    "\n",
    "extract_speed('6-Speed A/T')"
   ]
  },
  {
   "cell_type": "code",
   "execution_count": 130,
   "metadata": {},
   "outputs": [
    {
     "name": "stdout",
     "output_type": "stream",
     "text": [
      "<class 'pandas.core.frame.DataFrame'>\n",
      "RangeIndex: 4009 entries, 0 to 4008\n",
      "Data columns (total 15 columns):\n",
      " #   Column             Non-Null Count  Dtype  \n",
      "---  ------             --------------  -----  \n",
      " 0   brand              4009 non-null   object \n",
      " 1   model              4009 non-null   object \n",
      " 2   model_year         4009 non-null   int64  \n",
      " 3   milage             4009 non-null   float64\n",
      " 4   fuel_type          4009 non-null   object \n",
      " 5   engine             4009 non-null   object \n",
      " 6   transmission       4009 non-null   object \n",
      " 7   ext_col            4009 non-null   object \n",
      " 8   int_col            4009 non-null   object \n",
      " 9   accident           4009 non-null   int64  \n",
      " 10  clean_title        4009 non-null   object \n",
      " 11  price              4009 non-null   float64\n",
      " 12  transmission_type  4009 non-null   object \n",
      " 13  engine_litre       4009 non-null   float64\n",
      " 14  hp                 4009 non-null   float64\n",
      "dtypes: float64(4), int64(2), object(9)\n",
      "memory usage: 469.9+ KB\n"
     ]
    }
   ],
   "source": [
    "df.info()"
   ]
  },
  {
   "cell_type": "markdown",
   "metadata": {},
   "source": [
    "# Model Selection And evaluation"
   ]
  },
  {
   "cell_type": "code",
   "execution_count": 106,
   "metadata": {},
   "outputs": [
    {
     "name": "stdout",
     "output_type": "stream",
     "text": [
      "MAE: 16674.877967581047\n",
      "MSE: 18314694548.570057\n",
      "RMSE: 135331.79430041582\n"
     ]
    },
    {
     "data": {
      "text/plain": [
       "['car_price_model.pkl']"
      ]
     },
     "execution_count": 106,
     "metadata": {},
     "output_type": "execute_result"
    }
   ],
   "source": [
    "# One-hot encode categorical columns\n",
    "categorical_cols = ['brand', 'model', 'fuel_type', 'transmission_type', 'ext_col', 'int_col', 'clean_title']\n",
    "df = pd.get_dummies(df, columns=categorical_cols, drop_first=True)\n",
    "\n",
    "# Separate features and target variable\n",
    "X = df.drop('price', axis=1)\n",
    "y = df['price']\n",
    "\n",
    "# Split the dataset into training and testing sets\n",
    "from sklearn.model_selection import train_test_split\n",
    "X_train, X_test, y_train, y_test = train_test_split(X, y, test_size=0.2, random_state=42)\n",
    "\n",
    "# Choose a model and train it\n",
    "from sklearn.ensemble import RandomForestRegressor\n",
    "model = RandomForestRegressor(n_estimators=100, random_state=42)\n",
    "model.fit(X_train, y_train)\n",
    "\n",
    "# Evaluate the model\n",
    "from sklearn.metrics import mean_absolute_error, mean_squared_error\n",
    "y_pred = model.predict(X_test)\n",
    "print('MAE:', mean_absolute_error(y_test, y_pred))\n",
    "print('MSE:', mean_squared_error(y_test, y_pred))\n",
    "print('RMSE:', np.sqrt(mean_squared_error(y_test, y_pred)))\n",
    "\n",
    "# To save the model for later use\n",
    "import joblib\n",
    "joblib.dump(model, 'car_price_model.pkl')"
   ]
  },
  {
   "cell_type": "code",
   "execution_count": null,
   "metadata": {},
   "outputs": [],
   "source": []
  }
 ],
 "metadata": {
  "kernelspec": {
   "display_name": "base",
   "language": "python",
   "name": "python3"
  },
  "language_info": {
   "codemirror_mode": {
    "name": "ipython",
    "version": 3
   },
   "file_extension": ".py",
   "mimetype": "text/x-python",
   "name": "python",
   "nbconvert_exporter": "python",
   "pygments_lexer": "ipython3",
   "version": "3.11.7"
  }
 },
 "nbformat": 4,
 "nbformat_minor": 2
}
